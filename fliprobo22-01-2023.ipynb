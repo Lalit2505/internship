{
 "cells": [
  {
   "cell_type": "markdown",
   "id": "a2484ae9",
   "metadata": {},
   "source": [
    "# Machine learning worksheet"
   ]
  },
  {
   "cell_type": "code",
   "execution_count": 1,
   "id": "10cb1cab",
   "metadata": {},
   "outputs": [],
   "source": [
    "from docx2pdf import convert"
   ]
  },
  {
   "cell_type": "code",
   "execution_count": 4,
   "id": "1497e820",
   "metadata": {},
   "outputs": [],
   "source": [
    "word_file='C:\\python\\savefile\\\\M L Assignment-2 word.docx'\n",
    "pdf_file='C:\\python\\savefile\\\\flipmachine-2.pdf'"
   ]
  },
  {
   "cell_type": "code",
   "execution_count": 5,
   "id": "44d3f2e6",
   "metadata": {},
   "outputs": [
    {
     "data": {
      "application/vnd.jupyter.widget-view+json": {
       "model_id": "5b65086cc0bd4474ac86d3036e5abf9f",
       "version_major": 2,
       "version_minor": 0
      },
      "text/plain": [
       "  0%|          | 0/1 [00:00<?, ?it/s]"
      ]
     },
     "metadata": {},
     "output_type": "display_data"
    }
   ],
   "source": [
    "convert(\"C:\\python\\savefile\\\\M L Assignment-2 word.docx\",\"C:\\python\\savefile\\\\flipmachine-2.pdf\")"
   ]
  },
  {
   "cell_type": "markdown",
   "id": "6edd32b8",
   "metadata": {},
   "source": [
    "# SQL WORKSHEET"
   ]
  },
  {
   "cell_type": "code",
   "execution_count": 6,
   "id": "137558b2",
   "metadata": {},
   "outputs": [],
   "source": [
    "word_file='C:\\python\\savefile\\\\SQL_WORKSHEET_2 word.docx'\n",
    "pdf_file='C:\\python\\savefile\\\\flipsql-2.pdf'"
   ]
  },
  {
   "cell_type": "code",
   "execution_count": 7,
   "id": "80d934ee",
   "metadata": {},
   "outputs": [
    {
     "data": {
      "application/vnd.jupyter.widget-view+json": {
       "model_id": "e1c3c1f836f7480a9af64f5de9667364",
       "version_major": 2,
       "version_minor": 0
      },
      "text/plain": [
       "  0%|          | 0/1 [00:00<?, ?it/s]"
      ]
     },
     "metadata": {},
     "output_type": "display_data"
    }
   ],
   "source": [
    "convert(\"C:\\python\\savefile\\\\SQL_WORKSHEET_2 word.docx\",\"C:\\python\\savefile\\\\flipsql-2.pdf\")"
   ]
  },
  {
   "cell_type": "markdown",
   "id": "936b152d",
   "metadata": {},
   "source": [
    "# Statistics worksheet"
   ]
  },
  {
   "cell_type": "code",
   "execution_count": 8,
   "id": "33d2072c",
   "metadata": {},
   "outputs": [],
   "source": [
    "word_file='C:\\python\\savefile\\\\Statistics Worksheet-2 word.docx'\n",
    "pdf_file='C:\\python\\savefile\\\\flipstatistics-2.pdf'"
   ]
  },
  {
   "cell_type": "code",
   "execution_count": 11,
   "id": "26cabaf6",
   "metadata": {},
   "outputs": [
    {
     "data": {
      "application/vnd.jupyter.widget-view+json": {
       "model_id": "2bde275481b549ddafd182435c6507a3",
       "version_major": 2,
       "version_minor": 0
      },
      "text/plain": [
       "  0%|          | 0/1 [00:00<?, ?it/s]"
      ]
     },
     "metadata": {},
     "output_type": "display_data"
    }
   ],
   "source": [
    "convert(\"C:\\python\\savefile\\\\Statistics Worksheet-2 word.docx\",\"C:\\python\\savefile\\\\flipstatistics-2.pdf\")"
   ]
  },
  {
   "cell_type": "code",
   "execution_count": null,
   "id": "27c2bfe7",
   "metadata": {},
   "outputs": [],
   "source": []
  }
 ],
 "metadata": {
  "kernelspec": {
   "display_name": "Python 3 (ipykernel)",
   "language": "python",
   "name": "python3"
  },
  "language_info": {
   "codemirror_mode": {
    "name": "ipython",
    "version": 3
   },
   "file_extension": ".py",
   "mimetype": "text/x-python",
   "name": "python",
   "nbconvert_exporter": "python",
   "pygments_lexer": "ipython3",
   "version": "3.9.13"
  }
 },
 "nbformat": 4,
 "nbformat_minor": 5
}
