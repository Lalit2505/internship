{
 "cells": [
  {
   "cell_type": "markdown",
   "id": "d84b9ce4",
   "metadata": {},
   "source": [
    "# Machine learning worksheet"
   ]
  },
  {
   "cell_type": "code",
   "execution_count": 1,
   "id": "58632172",
   "metadata": {},
   "outputs": [],
   "source": [
    "from docx2pdf import convert"
   ]
  },
  {
   "cell_type": "code",
   "execution_count": 2,
   "id": "2eb8de16",
   "metadata": {},
   "outputs": [],
   "source": [
    "word_file='C:\\python\\savefile\\\\new world.docx'\n",
    "pdf_file='C:\\python\\savefile\\\\flipmachine.pdf'"
   ]
  },
  {
   "cell_type": "code",
   "execution_count": 3,
   "id": "154b94b1",
   "metadata": {},
   "outputs": [
    {
     "data": {
      "application/vnd.jupyter.widget-view+json": {
       "model_id": "47ba4b6467234821b4dac43818940be8",
       "version_major": 2,
       "version_minor": 0
      },
      "text/plain": [
       "  0%|          | 0/1 [00:00<?, ?it/s]"
      ]
     },
     "metadata": {},
     "output_type": "display_data"
    }
   ],
   "source": [
    "convert(\"C:\\python\\savefile\\\\new world.docx\",\"C:\\python\\savefile\\\\flipmachine.pdf\")"
   ]
  },
  {
   "cell_type": "markdown",
   "id": "896f1905",
   "metadata": {},
   "source": [
    "# SQL worksheet"
   ]
  },
  {
   "cell_type": "code",
   "execution_count": 4,
   "id": "47f2cda1",
   "metadata": {},
   "outputs": [],
   "source": [
    "word_file='C:\\python\\savefile\\\\SQL_WORKSHEET_1 world palak.docx'\n",
    "pdf_file='C:\\python\\savefile\\\\flipsql.pdf'"
   ]
  },
  {
   "cell_type": "code",
   "execution_count": 5,
   "id": "5ae93f30",
   "metadata": {},
   "outputs": [
    {
     "data": {
      "application/vnd.jupyter.widget-view+json": {
       "model_id": "e40fbec301a14c01b1447f3595416978",
       "version_major": 2,
       "version_minor": 0
      },
      "text/plain": [
       "  0%|          | 0/1 [00:00<?, ?it/s]"
      ]
     },
     "metadata": {},
     "output_type": "display_data"
    }
   ],
   "source": [
    "convert(\"C:\\python\\savefile\\\\SQL_WORKSHEET_1 world palak.docx\",\"C:\\python\\savefile\\\\flipsql.pdf\")"
   ]
  },
  {
   "cell_type": "markdown",
   "id": "b72313a1",
   "metadata": {},
   "source": [
    "# Statistics worksheet"
   ]
  },
  {
   "cell_type": "code",
   "execution_count": 6,
   "id": "ea34a125",
   "metadata": {},
   "outputs": [],
   "source": [
    "word_file='C:\\python\\savefile\\\\Statistics Worksheet-1 word PALAK.docx'\n",
    "pdf_file='C:\\python\\savefile\\\\flipstatistics.pdf'"
   ]
  },
  {
   "cell_type": "code",
   "execution_count": 7,
   "id": "4b88ec25",
   "metadata": {},
   "outputs": [
    {
     "data": {
      "application/vnd.jupyter.widget-view+json": {
       "model_id": "585d8ea7c8024ebaa5894a32fef6b009",
       "version_major": 2,
       "version_minor": 0
      },
      "text/plain": [
       "  0%|          | 0/1 [00:00<?, ?it/s]"
      ]
     },
     "metadata": {},
     "output_type": "display_data"
    }
   ],
   "source": [
    "convert(\"C:\\python\\savefile\\\\Statistics Worksheet-1 word PALAK.docx\",\"C:\\python\\savefile\\\\flipstatistics.pdf\")"
   ]
  },
  {
   "cell_type": "code",
   "execution_count": null,
   "id": "9ccd354d",
   "metadata": {},
   "outputs": [],
   "source": []
  }
 ],
 "metadata": {
  "kernelspec": {
   "display_name": "Python 3 (ipykernel)",
   "language": "python",
   "name": "python3"
  },
  "language_info": {
   "codemirror_mode": {
    "name": "ipython",
    "version": 3
   },
   "file_extension": ".py",
   "mimetype": "text/x-python",
   "name": "python",
   "nbconvert_exporter": "python",
   "pygments_lexer": "ipython3",
   "version": "3.9.13"
  }
 },
 "nbformat": 4,
 "nbformat_minor": 5
}
